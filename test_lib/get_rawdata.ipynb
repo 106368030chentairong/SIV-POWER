{
 "cells": [
  {
   "cell_type": "code",
   "execution_count": 2,
   "metadata": {},
   "outputs": [],
   "source": [
    "import os, sys, time\n",
    "import pickle\n",
    "import numpy as np\n",
    "from Visa_Source_lib import *\n",
    "import pyvisa as visa\n",
    "\n",
    "import matplotlib.pyplot as plt\n",
    "\n",
    "RECOrdlength = \"5E6\"\n",
    "\n",
    "def get_time():\n",
    "    gm_time = time.gmtime() \n",
    "    mk_time = time.mktime(gm_time)\n",
    "    return str(int(mk_time))\n",
    "\n",
    "def find_nearest(array, value):\n",
    "    array = np.asarray(array)\n",
    "    idx = (np.abs(array - value)).argmin()\n",
    "    return idx\n",
    "\n",
    "def setup(add, SCALE=(80/400000) ): #str(0.5/396000)):\n",
    "    rm = visa.ResourceManager()\n",
    "    scope = rm.open_resource(add)\n",
    "    scope.timeout = 80000 # ms\n",
    "    scope.write('*cls') # clear ESR\n",
    "    scope.write('FPAnel:PRESS DEFaultsetup')\n",
    "    scope.write('FPAnel:PRESS MENUOff')\n",
    "    #scope.write('SELECT:CH3 1')\n",
    "    scope.write('SELECT:CH1 1')\n",
    "\n",
    "    #scope.write('autoset EXECUTE')\n",
    "    scope.write('HORizontal:RECOrdlength '+RECOrdlength )\n",
    "    scope.write('DISPLAY:INTEnsITY:WAVEFORM 100')\n",
    "\n",
    "    scope.write('TRIGger:A:EDGE:SOUrce CH1')\n",
    "    scope.write('TRIGger:A:LEVel 1')\n",
    "    scope.write('TRIGger:A:TYPe EDGe')\n",
    "    scope.write('TRIGger:A:MODe NORMal')\n",
    "    scope.write('TRIGger:A:EDGE:SLOpe FALL')\n",
    "\n",
    "    #scope.write('CURSor:FUNCtion SCREEN')\n",
    "    \n",
    "    #scope.write('acquire:state 0')\n",
    "    #scope.write('acquire:stopafter SEQUENCE') \n",
    "    #scope.write('acquire:state 1')\n",
    "    scope.write('HORizontal:RECOrdlength '+RECOrdlength )\n",
    "    scope.write('HORIZONTAL:DELay:TIME '+str(SCALE*4))\n",
    "    scope.write('HORIZONTAL:SCALE '+str(SCALE))\n",
    "\n",
    "    scope.write('CH1:POSition 0.5')\n",
    "    #scope.write('CH3:POSition -2.5')\n",
    "    \n",
    "    scope.close()\n",
    "    rm.close()\n",
    "\n",
    "\n",
    "def get_rawdata(channel, visa_address ,SCALE=(80/400000), filename=\"\"):\n",
    "    rm = visa.ResourceManager()\n",
    "    scope = rm.open_resource(visa_address)\n",
    "    scope.timeout = 80000 # ms\n",
    "    scope.encoding = 'latin_1'\n",
    "    scope.read_termination = '\\n'\n",
    "    scope.write_termination = None\n",
    "\n",
    "    #scope.write('*rst') # reset\n",
    "    #t1 = time.perf_counter()\n",
    "    #r = scope.query('*opc?') # sync\n",
    "    #t2 = time.perf_counter()\n",
    "    #print('reset time: {}'.format(t2 - t1))\n",
    "\n",
    "    #scope.write('autoset EXECUTE') # autoset\n",
    "    t3 = time.perf_counter()\n",
    "    r = scope.query('*opc?') # sync\n",
    "    t4 = time.perf_counter()\n",
    "    #print('autoset time: {} s'.format(t4 - t3))\n",
    "\n",
    "    scope.write('HORizontal:RECOrdlength '+ RECOrdlength )\n",
    "    scope.write('HORizontal:SAMPLERate 100e5')\n",
    "    scope.write('HORIZONTAL:SCALE '+str(SCALE))\n",
    "\n",
    "    scope.write('header 0')\n",
    "    scope.write('data:encdg SRIBINARY')\n",
    "    scope.write('data:source '+channel) \n",
    "    scope.write('data:start 1')\n",
    "    record = int(scope.query('horizontal:recordlength?'))\n",
    "    scope.write('data:stop {}'.format(record)) \n",
    "    scope.write('wfmoutpre:byt_n 1') \n",
    "\n",
    "    scope.write('acquire:state 0')\n",
    "    scope.write('acquire:stopafter SEQUENCE') \n",
    "    scope.write('acquire:state 1')\n",
    "\n",
    "    #t5 = time.perf_counter()\n",
    "    #r = scope.query('*opc?') # sync\n",
    "    #t6 = time.perf_counter()\n",
    "    #print('acquire time: {} s'.format(t6 - t5))\n",
    "\n",
    "    # data query\n",
    "    t7 = time.perf_counter()\n",
    "    bin_wave = scope.query_binary_values('curve?', datatype='b', container=np.array, chunk_size =1024**2)\n",
    "    t8 = time.perf_counter()\n",
    "    print('transfer time: {} s'.format(t8 - t7))\n",
    "\n",
    "    # retrieve scaling factors\n",
    "    tscale = float(scope.query('wfmoutpre:xincr?'))\n",
    "    tstart = float(scope.query('wfmoutpre:xzero?'))\n",
    "    vscale = float(scope.query('wfmoutpre:ymult?')) # volts / level\n",
    "    voff = float(scope.query('wfmoutpre:yzero?')) # reference voltage\n",
    "    vpos = float(scope.query('wfmoutpre:yoff?')) # reference position (level)\n",
    "\n",
    "    # error checking\n",
    "    r = int(scope.query('*esr?'))\n",
    "    print('event status register: 0b{:08b}'.format(r))\n",
    "    r = scope.query('allev?').strip()\n",
    "    print('all event messages: {}'.format(r))\n",
    "\n",
    "    scope.close()\n",
    "    rm.close()\n",
    "\n",
    "    # create scaled vectors\n",
    "    # horizontal (time)\n",
    "    total_time = tscale * record\n",
    "    tstop = tstart + total_time\n",
    "    scaled_time = np.linspace(tstart, tstop, num=record, endpoint=False)\n",
    "    # vertical (voltage)\n",
    "    unscaled_wave = np.array(bin_wave, dtype='double') # data type conversion\n",
    "    CLK_scaled_wave = (unscaled_wave - vpos) * vscale + voff\n",
    "    #CLK_filename = [(idx, item) for idx,item in enumerate(CLK_scaled_wave, start=1)]\n",
    "    print(\"find_nearest:\", find_nearest(CLK_scaled_wave, 1.26))\n",
    "    with open(\"pt_tmp/\"+get_time()+\"_\"+channel+\".txt\", \"wb\") as fp:   #Pickling\n",
    "        pickle.dump(CLK_scaled_wave, fp)\n",
    "\n",
    "    #scaled_time = [(idx, item) for idx,item in enumerate(scaled_time, start=1)]\n",
    "    with open(\"pt_tmp/\"+get_time()+\"_\"+channel+\"_time.txt\", \"wb\") as fp:   #Pickling\n",
    "        pickle.dump(scaled_time, fp)\n",
    "\n",
    "    return CLK_scaled_wave, scaled_time\n",
    "\n"
   ]
  },
  {
   "cell_type": "code",
   "execution_count": 3,
   "metadata": {},
   "outputs": [
    {
     "name": "stdout",
     "output_type": "stream",
     "text": [
      "transfer time: 1.0960349999999996 s\n",
      "event status register: 0b00100000\n",
      "all event messages: 104,\"Data type error; Unrecognized character data; data:source 1\"\n",
      "find_nearest: 0\n",
      "[-5.62 -5.62 -5.62 ... -5.62 -5.62 -5.62]\n"
     ]
    },
    {
     "data": {
      "image/png": "[encoded data removed]",
      "text/plain": [
       "<Figure size 432x288 with 1 Axes>"
      ]
     },
     "metadata": {
      "needs_background": "light"
     },
     "output_type": "display_data"
    }
   ],
   "source": [
    "\n",
    "#setup(\"USB0::0x0699::0x0405::C022392::INSTR\", 1)\n",
    "setup(\"USB0::0x0699::0x0405::C022392::INSTR\", SCALE = 0.005)\n",
    "CLK_scaled_wave, scaled_time = get_rawdata(\"1\", \"USB0::0x0699::0x0405::C022392::INSTR\", SCALE = 0.005)\n",
    "print(CLK_scaled_wave)\n",
    "plt.plot(CLK_scaled_wave)\n",
    "plt.show()"
   ]
  },
  {
   "cell_type": "code",
   "execution_count": 58,
   "metadata": {},
   "outputs": [
    {
     "name": "stderr",
     "output_type": "stream",
     "text": [
      "c:\\Users\\10812017\\AppData\\Local\\Programs\\Python\\Python37\\lib\\site-packages\\pyvisa\\highlevel.py:3355: FutureWarning: get_instrument is deprecated and will be removed in 1.12, use open_resource instead.\n",
      "  FutureWarning,\n"
     ]
    },
    {
     "name": "stdout",
     "output_type": "stream",
     "text": [
      "0.04 0.0 140.5 2e-10\n"
     ]
    },
    {
     "data": {
      "image/png": "[encoded data removed]",
      "text/plain": [
       "<Figure size 432x288 with 1 Axes>"
      ]
     },
     "metadata": {
      "needs_background": "light"
     },
     "output_type": "display_data"
    }
   ],
   "source": [
    "import pyvisa as visa\n",
    "import numpy as np\n",
    "from struct import unpack\n",
    "import pylab\n",
    "\n",
    "#scope = visa.instrument('USB0::0x0699::0x0401::No_Serial::INSTR')\n",
    "\n",
    "rm = visa.ResourceManager()\n",
    "scope = rm.get_instrument(\"USB0::0x0699::0x0405::C022392::INSTR\")\n",
    "\n",
    "scope.write('DATA:SOU CH1')\n",
    "scope.write('DATA:WIDTH 1')\n",
    "scope.write('DATA:ENC RPB')\n",
    "\n",
    "ymult = float(scope.query('WFMPRE:YMULT?'))\n",
    "yzero = float(scope.query('WFMPRE:YZERO?'))\n",
    "yoff = float(scope.query('WFMPRE:YOFF?'))\n",
    "xincr = float(scope.query('WFMPRE:XINCR?'))\n",
    "\n",
    "print(ymult, yzero, yoff, xincr)\n",
    "\n",
    "\n",
    "scope.write('CURVE?')\n",
    "data_ch1 = scope.read_raw()\n",
    "headerlen = 2 + int(data_ch1[1])\n",
    "header = data_ch1[:headerlen]\n",
    "ADC_wave_ch1 = data_ch1[headerlen:-1]\n",
    "\n",
    "ADC_wave_ch1 = np.array(unpack('%sB' % len(ADC_wave_ch1),ADC_wave_ch1))\n",
    "\n",
    "Volts_ch1 = (ADC_wave_ch1 - yoff) * ymult  + yzero\n",
    "\n",
    "Time = np.arange(0, xincr * len(Volts_ch1), xincr)\n",
    "\n",
    "pylab.title('Oscilloscope Channel 1')\n",
    "pylab.ylabel('Voltage (V)')\n",
    "pylab.xlabel('Time ('+ str(xincr) + ')')\n",
    "pylab.plot(Time, Volts_ch1)\n",
    "pylab.show()\n",
    "rm.close()\n",
    "scope.close()"
   ]
  },
  {
   "cell_type": "code",
   "execution_count": 59,
   "metadata": {},
   "outputs": [],
   "source": [
    "\n",
    "def find_timedif(Rawdata, Time):\n",
    "    delta = 1\n",
    "    avg = sum(Rawdata)/len(Rawdata)\n",
    "    #print((avg)*delta)\n",
    "\n",
    "    tmp = []\n",
    "    for index, val in enumerate(Rawdata):\n",
    "        if val >= (avg)*delta:\n",
    "            tmp.append([index, val])\n",
    "\n",
    "    pk2pk_time = []\n",
    "    avg_dif_time = []\n",
    "    for index, val in enumerate(tmp):\n",
    "        if index < len(tmp)-1:\n",
    "            #print(tmp[index+1][0] - val[0])\n",
    "            time_dif = Time[tmp[index+1][0] ]- Time[val[0]]\n",
    "            if (time_dif) >= 0.0002:\n",
    "                #print(time_dif)\n",
    "                pk2pk_time.append([time_dif, [val[0], val[1]], [tmp[index+1][0], tmp[index+1][1]]])\n",
    "                avg_dif_time.append(time_dif)\n",
    "    if avg_dif_time != []:\n",
    "        avg_time = sum(avg_dif_time)/len(avg_dif_time)\n",
    "    return pk2pk_time, avg_dif_time"
   ]
  },
  {
   "cell_type": "code",
   "execution_count": 60,
   "metadata": {},
   "outputs": [
    {
     "name": "stdout",
     "output_type": "stream",
     "text": [
      "0 []\n"
     ]
    }
   ],
   "source": [
    "pk2pk_time = []\n",
    "pk2pk_time, avg_time = find_timedif(Volts_ch1, Time)\n",
    "print(len(pk2pk_time), avg_time)"
   ]
  },
  {
   "cell_type": "code",
   "execution_count": 61,
   "metadata": {},
   "outputs": [
    {
     "data": {
      "image/png": "[encoded data removed]",
      "text/plain": [
       "<Figure size 432x288 with 1 Axes>"
      ]
     },
     "metadata": {
      "needs_background": "light"
     },
     "output_type": "display_data"
    }
   ],
   "source": [
    "import matplotlib.pyplot as plt\n",
    "for pk2pk_val in pk2pk_time:\n",
    "    plt.scatter(pk2pk_val[1][0], pk2pk_val[1][1])\n",
    "    plt.scatter(pk2pk_val[2][0], pk2pk_val[2][1])\n",
    "\n",
    "plt.plot(Volts_ch1)\n",
    "plt.show()"
   ]
  }
 ],
 "metadata": {
  "kernelspec": {
   "display_name": "Python 3.7.8 64-bit",
   "language": "python",
   "name": "python3"
  },
  "language_info": {
   "codemirror_mode": {
    "name": "ipython",
    "version": 3
   },
   "file_extension": ".py",
   "mimetype": "text/x-python",
   "name": "python",
   "nbconvert_exporter": "python",
   "pygments_lexer": "ipython3",
   "version": "3.7.8"
  },
  "orig_nbformat": 4,
  "vscode": {
   "interpreter": {
    "hash": "84ef8e9b3a61cd5f52501e74cbcb6f1496d2d62b68b5c9ee38e066404ace2a0d"
   }
  }
 },
 "nbformat": 4,
 "nbformat_minor": 2
}
